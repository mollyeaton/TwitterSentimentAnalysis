{
 "cells": [
  {
   "cell_type": "code",
   "execution_count": 2,
   "metadata": {},
   "outputs": [
    {
     "name": "stdout",
     "output_type": "stream",
     "text": [
      "2.0.0\n"
     ]
    },
    {
     "name": "stderr",
     "output_type": "stream",
     "text": [
      "Using TensorFlow backend.\n"
     ]
    }
   ],
   "source": [
    "import re\n",
    "import pandas as pd \n",
    "import numpy as np \n",
    "import matplotlib.pyplot as plt \n",
    "import seaborn as sns\n",
    "import string\n",
    "import nltk\n",
    "import warnings \n",
    "import time\n",
    "warnings.filterwarnings(\"ignore\", category=DeprecationWarning)\n",
    "warnings.filterwarnings(\"ignore\", category=FutureWarning)\n",
    "\n",
    "from nltk import PorterStemmer\n",
    "ps = PorterStemmer()\n",
    "from nltk.corpus import stopwords\n",
    "from nltk import WordNetLemmatizer\n",
    "\n",
    "from sklearn import preprocessing\n",
    "from sklearn.ensemble import RandomForestClassifier, AdaBoostClassifier\n",
    "from sklearn.tree import DecisionTreeClassifier\n",
    "from sklearn.feature_extraction.text import CountVectorizer\n",
    "from sklearn.feature_extraction.text import TfidfVectorizer\n",
    "from sklearn.model_selection import train_test_split\n",
    "from sklearn.linear_model import LogisticRegression\n",
    "from sklearn.metrics import f1_score\n",
    "\n",
    "from sklearn import metrics\n",
    "from sklearn.model_selection import cross_validate\n",
    "from sklearn.model_selection import cross_val_predict, cross_val_score\n",
    "from sklearn.model_selection import ShuffleSplit\n",
    "from sklearn.model_selection import learning_curve\n",
    "\n",
    "# TensorFlow and tf.keras\n",
    "import tensorflow as tf\n",
    "from tensorflow import keras\n",
    "from keras.preprocessing.text import Tokenizer\n",
    "from keras.constraints import unit_norm\n",
    "from tensorflow.keras.models import Sequential \n",
    "from tensorflow.keras import layers\n",
    "from tensorflow.keras import optimizers\n",
    "from tensorflow.keras.layers import Dense, add, Input, Flatten, Dropout\n",
    "from tensorflow.keras.layers import Conv2D, MaxPooling2D \n",
    "\n",
    "print(tf.__version__)\n",
    "%matplotlib inline"
   ]
  },
  {
   "cell_type": "markdown",
   "metadata": {},
   "source": [
    "## Read in Data "
   ]
  },
  {
   "cell_type": "markdown",
   "metadata": {},
   "source": [
    "Here we read in the data as well as take a subset of the entire dataset to actually work on. The entire dataset is 1.5 million tweets, so we only use 60,000 of them due to computational limits."
   ]
  },
  {
   "cell_type": "code",
   "execution_count": 5,
   "metadata": {},
   "outputs": [
    {
     "data": {
      "text/html": [
       "<div>\n",
       "<style scoped>\n",
       "    .dataframe tbody tr th:only-of-type {\n",
       "        vertical-align: middle;\n",
       "    }\n",
       "\n",
       "    .dataframe tbody tr th {\n",
       "        vertical-align: top;\n",
       "    }\n",
       "\n",
       "    .dataframe thead th {\n",
       "        text-align: right;\n",
       "    }\n",
       "</style>\n",
       "<table border=\"1\" class=\"dataframe\">\n",
       "  <thead>\n",
       "    <tr style=\"text-align: right;\">\n",
       "      <th></th>\n",
       "      <th>ItemID</th>\n",
       "      <th>Sentiment</th>\n",
       "      <th>Tweet</th>\n",
       "    </tr>\n",
       "  </thead>\n",
       "  <tbody>\n",
       "    <tr>\n",
       "      <td>0</td>\n",
       "      <td>1</td>\n",
       "      <td>0</td>\n",
       "      <td>is so sad for my APL frie...</td>\n",
       "    </tr>\n",
       "    <tr>\n",
       "      <td>1</td>\n",
       "      <td>2</td>\n",
       "      <td>0</td>\n",
       "      <td>I missed the New Moon trail...</td>\n",
       "    </tr>\n",
       "    <tr>\n",
       "      <td>2</td>\n",
       "      <td>3</td>\n",
       "      <td>1</td>\n",
       "      <td>omg its already 7:30 :O\\r</td>\n",
       "    </tr>\n",
       "    <tr>\n",
       "      <td>3</td>\n",
       "      <td>4</td>\n",
       "      <td>0</td>\n",
       "      <td>.. Omgaga. Im sooo  im gunna CRy. I'...</td>\n",
       "    </tr>\n",
       "    <tr>\n",
       "      <td>4</td>\n",
       "      <td>5</td>\n",
       "      <td>0</td>\n",
       "      <td>i think mi bf is cheating on me!!!   ...</td>\n",
       "    </tr>\n",
       "    <tr>\n",
       "      <td>...</td>\n",
       "      <td>...</td>\n",
       "      <td>...</td>\n",
       "      <td>...</td>\n",
       "    </tr>\n",
       "    <tr>\n",
       "      <td>59995</td>\n",
       "      <td>60007</td>\n",
       "      <td>0</td>\n",
       "      <td>@BgirlShorty jealous, its bedtime for me \\r</td>\n",
       "    </tr>\n",
       "    <tr>\n",
       "      <td>59996</td>\n",
       "      <td>60008</td>\n",
       "      <td>1</td>\n",
       "      <td>@BgirlShorty looking pimp in those jerseys!! h...</td>\n",
       "    </tr>\n",
       "    <tr>\n",
       "      <td>59997</td>\n",
       "      <td>60009</td>\n",
       "      <td>1</td>\n",
       "      <td>@BgirlShorty lucky !!!!!!! hahah  you all have...</td>\n",
       "    </tr>\n",
       "    <tr>\n",
       "      <td>59998</td>\n",
       "      <td>60010</td>\n",
       "      <td>0</td>\n",
       "      <td>@belledame222 I don't understand why socialist...</td>\n",
       "    </tr>\n",
       "    <tr>\n",
       "      <td>59999</td>\n",
       "      <td>60011</td>\n",
       "      <td>1</td>\n",
       "      <td>@bellelumiere So I could just do my own thing ...</td>\n",
       "    </tr>\n",
       "  </tbody>\n",
       "</table>\n",
       "<p>60000 rows × 3 columns</p>\n",
       "</div>"
      ],
      "text/plain": [
       "       ItemID  Sentiment                                              Tweet\n",
       "0           1          0                       is so sad for my APL frie...\n",
       "1           2          0                     I missed the New Moon trail...\n",
       "2           3          1                          omg its already 7:30 :O\\r\n",
       "3           4          0            .. Omgaga. Im sooo  im gunna CRy. I'...\n",
       "4           5          0           i think mi bf is cheating on me!!!   ...\n",
       "...       ...        ...                                                ...\n",
       "59995   60007          0        @BgirlShorty jealous, its bedtime for me \\r\n",
       "59996   60008          1  @BgirlShorty looking pimp in those jerseys!! h...\n",
       "59997   60009          1  @BgirlShorty lucky !!!!!!! hahah  you all have...\n",
       "59998   60010          0  @belledame222 I don't understand why socialist...\n",
       "59999   60011          1  @bellelumiere So I could just do my own thing ...\n",
       "\n",
       "[60000 rows x 3 columns]"
      ]
     },
     "execution_count": 5,
     "metadata": {},
     "output_type": "execute_result"
    }
   ],
   "source": [
    "# Define number of columns to be read in\n",
    "n = 4\n",
    "# Get training dataset - Sentiment Analysis csv that we found\n",
    "data = pd.read_csv('Sentiment Analysis Dataset.csv', usecols=range(n), lineterminator='\\n', header = 0)\n",
    "# Copy it so we always have an original\n",
    "originalFullset = data.copy()\n",
    "\n",
    "# Remove sentimentSource column - does not add any useful information\n",
    "data.drop(\"SentimentSource\", axis = 1, inplace = True)\n",
    "\n",
    "# Rename SentimentText\\r to Tweet to make it easier to work with\n",
    "data = data.rename(columns = {\"SentimentText\\r\": \"Tweet\"})\n",
    "\n",
    "data = data[:60000]\n",
    "\n",
    "data\n",
    "\n",
    "# For this dataset 0 is negative, 1 is positive"
   ]
  },
  {
   "cell_type": "markdown",
   "metadata": {},
   "source": [
    "## Understand Distribution of Data"
   ]
  },
  {
   "cell_type": "code",
   "execution_count": 6,
   "metadata": {},
   "outputs": [
    {
     "data": {
      "text/plain": [
       "<matplotlib.axes._subplots.AxesSubplot at 0x1a4b89ac10>"
      ]
     },
     "execution_count": 6,
     "metadata": {},
     "output_type": "execute_result"
    },
    {
     "data": {
      "image/png": "[encoded data removed]",
      "text/plain": [
       "<Figure size 432x288 with 1 Axes>"
      ]
     },
     "metadata": {
      "needs_background": "light"
     },
     "output_type": "display_data"
    }
   ],
   "source": [
    "# View distribution of data before preprocessing\n",
    "sns.countplot(data = data, x = \"Sentiment\")"
   ]
  },
  {
   "cell_type": "markdown",
   "metadata": {},
   "source": [
    "Clearly, our data takes a fairly even split between positive and negatively labeled tweets. Thus, we choose accuracy as our metric of choice when analyzing our models."
   ]
  },
  {
   "cell_type": "markdown",
   "metadata": {},
   "source": [
    "## Preprocessing"
   ]
  },
  {
   "cell_type": "code",
   "execution_count": 7,
   "metadata": {},
   "outputs": [],
   "source": [
    "# Function that will remove patterns and phrases that do not add anything to the tweet\n",
    "# such as handles and punctuation\n",
    "\n",
    "def deletePart(text, part):\n",
    "    # Get all instances of part in the text\n",
    "    r = re.findall(part,text)\n",
    "    \n",
    "    # Sub out these unnecessary patterns for a blank space\n",
    "    for i in r:\n",
    "        text = re.sub(i,\"\",text)\n",
    "        \n",
    "        \n",
    "    return text\n"
   ]
  },
  {
   "cell_type": "code",
   "execution_count": 8,
   "metadata": {},
   "outputs": [
    {
     "data": {
      "text/html": [
       "<div>\n",
       "<style scoped>\n",
       "    .dataframe tbody tr th:only-of-type {\n",
       "        vertical-align: middle;\n",
       "    }\n",
       "\n",
       "    .dataframe tbody tr th {\n",
       "        vertical-align: top;\n",
       "    }\n",
       "\n",
       "    .dataframe thead th {\n",
       "        text-align: right;\n",
       "    }\n",
       "</style>\n",
       "<table border=\"1\" class=\"dataframe\">\n",
       "  <thead>\n",
       "    <tr style=\"text-align: right;\">\n",
       "      <th></th>\n",
       "      <th>ItemID</th>\n",
       "      <th>Sentiment</th>\n",
       "      <th>Tweet</th>\n",
       "      <th>CleanTweet</th>\n",
       "    </tr>\n",
       "  </thead>\n",
       "  <tbody>\n",
       "    <tr>\n",
       "      <td>0</td>\n",
       "      <td>1</td>\n",
       "      <td>0</td>\n",
       "      <td>is so sad for my APL frie...</td>\n",
       "      <td>friend</td>\n",
       "    </tr>\n",
       "    <tr>\n",
       "      <td>1</td>\n",
       "      <td>2</td>\n",
       "      <td>0</td>\n",
       "      <td>I missed the New Moon trail...</td>\n",
       "      <td>missed moon trailer</td>\n",
       "    </tr>\n",
       "    <tr>\n",
       "      <td>2</td>\n",
       "      <td>3</td>\n",
       "      <td>1</td>\n",
       "      <td>omg its already 7:30 :O\\r</td>\n",
       "      <td>already</td>\n",
       "    </tr>\n",
       "    <tr>\n",
       "      <td>3</td>\n",
       "      <td>4</td>\n",
       "      <td>0</td>\n",
       "      <td>.. Omgaga. Im sooo  im gunna CRy. I'...</td>\n",
       "      <td>omgaga sooo gunna been this dentist since supo...</td>\n",
       "    </tr>\n",
       "    <tr>\n",
       "      <td>4</td>\n",
       "      <td>5</td>\n",
       "      <td>0</td>\n",
       "      <td>i think mi bf is cheating on me!!!   ...</td>\n",
       "      <td>think cheating</td>\n",
       "    </tr>\n",
       "    <tr>\n",
       "      <td>...</td>\n",
       "      <td>...</td>\n",
       "      <td>...</td>\n",
       "      <td>...</td>\n",
       "      <td>...</td>\n",
       "    </tr>\n",
       "    <tr>\n",
       "      <td>95</td>\n",
       "      <td>96</td>\n",
       "      <td>0</td>\n",
       "      <td>mi momacita won't let me go to my bf's bball...</td>\n",
       "      <td>momacita bball game grrr</td>\n",
       "    </tr>\n",
       "    <tr>\n",
       "      <td>96</td>\n",
       "      <td>97</td>\n",
       "      <td>0</td>\n",
       "      <td>Mom says I have to get a new phone IMMEDIATE...</td>\n",
       "      <td>says have phone immediately mobile paying</td>\n",
       "    </tr>\n",
       "    <tr>\n",
       "      <td>97</td>\n",
       "      <td>98</td>\n",
       "      <td>0</td>\n",
       "      <td>My new car was stolen....by my mother who wa...</td>\n",
       "      <td>stolen mother wanted pose church</td>\n",
       "    </tr>\n",
       "    <tr>\n",
       "      <td>98</td>\n",
       "      <td>99</td>\n",
       "      <td>0</td>\n",
       "      <td>no hang out with the girls 2day. 2moro, hope...</td>\n",
       "      <td>hang with girls moro hope</td>\n",
       "    </tr>\n",
       "    <tr>\n",
       "      <td>99</td>\n",
       "      <td>100</td>\n",
       "      <td>0</td>\n",
       "      <td>no movie times for sunday!  Rats will have t...</td>\n",
       "      <td>movie times sunday rats will have plan tomorro...</td>\n",
       "    </tr>\n",
       "  </tbody>\n",
       "</table>\n",
       "<p>100 rows × 4 columns</p>\n",
       "</div>"
      ],
      "text/plain": [
       "    ItemID  Sentiment                                              Tweet  \\\n",
       "0        1          0                       is so sad for my APL frie...   \n",
       "1        2          0                     I missed the New Moon trail...   \n",
       "2        3          1                          omg its already 7:30 :O\\r   \n",
       "3        4          0            .. Omgaga. Im sooo  im gunna CRy. I'...   \n",
       "4        5          0           i think mi bf is cheating on me!!!   ...   \n",
       "..     ...        ...                                                ...   \n",
       "95      96          0    mi momacita won't let me go to my bf's bball...   \n",
       "96      97          0    Mom says I have to get a new phone IMMEDIATE...   \n",
       "97      98          0    My new car was stolen....by my mother who wa...   \n",
       "98      99          0    no hang out with the girls 2day. 2moro, hope...   \n",
       "99     100          0    no movie times for sunday!  Rats will have t...   \n",
       "\n",
       "                                           CleanTweet  \n",
       "0                                              friend  \n",
       "1                                 missed moon trailer  \n",
       "2                                             already  \n",
       "3   omgaga sooo gunna been this dentist since supo...  \n",
       "4                                      think cheating  \n",
       "..                                                ...  \n",
       "95                           momacita bball game grrr  \n",
       "96          says have phone immediately mobile paying  \n",
       "97                   stolen mother wanted pose church  \n",
       "98                          hang with girls moro hope  \n",
       "99  movie times sunday rats will have plan tomorro...  \n",
       "\n",
       "[100 rows x 4 columns]"
      ]
     },
     "execution_count": 8,
     "metadata": {},
     "output_type": "execute_result"
    }
   ],
   "source": [
    "# Define new column of dataframe as processed tweet\n",
    "data['CleanTweet'] = np.vectorize(deletePart)(data['Tweet'], \"@[\\w]*\")\n",
    "\n",
    "# Replace all special characters with a space\n",
    "data['CleanTweet'] = data['CleanTweet'].str.replace(\"[^a-zA-Z#]\", \" \")\n",
    "\n",
    "# Replace all hashtags with empty space\n",
    "data['CleanTweet'] = data['CleanTweet'].str.replace(\"#\", \"\")\n",
    "\n",
    "# Delete all words with 3 or less letters\n",
    "data['CleanTweet'] = data['CleanTweet'].apply(lambda x: ' '.join([w for w in x.split() if len(w)>3]))\n",
    "\n",
    "# Make all words lowercase\n",
    "data['CleanTweet'] = data['CleanTweet'].apply(lambda x: x.lower())\n",
    "\n",
    "\n",
    "# Display the head\n",
    "data.head(100)"
   ]
  },
  {
   "cell_type": "code",
   "execution_count": 9,
   "metadata": {},
   "outputs": [
    {
     "data": {
      "text/plain": [
       "0                                             [friend]\n",
       "1                              [missed, moon, trailer]\n",
       "2                                            [already]\n",
       "3    [omgaga, sooo, gunna, been, this, dentist, sin...\n",
       "4                                    [think, cheating]\n",
       "Name: CleanTweet, dtype: object"
      ]
     },
     "execution_count": 9,
     "metadata": {},
     "output_type": "execute_result"
    }
   ],
   "source": [
    "#Tokenize tweet into just words\n",
    "tokenizedData = data['CleanTweet'].apply(lambda x: x.split())\n",
    "\n",
    "tokenizedData.head()"
   ]
  },
  {
   "cell_type": "code",
   "execution_count": 10,
   "metadata": {},
   "outputs": [],
   "source": [
    "# Define method to lemmatize words in a tweet\n",
    "def lemmatization(word_vector):\n",
    "    \n",
    "    lem = WordNetLemmatizer()\n",
    "    lemmatized_tweet = []\n",
    "    \n",
    "    # Lemmatize data\n",
    "    for word in word_vector:\n",
    "        lemmatized_text = lem.lemmatize(word, 'v')\n",
    "        lemmatized_tweet.append(lemmatized_text)\n",
    "    \n",
    "    return lemmatized_tweet"
   ]
  },
  {
   "cell_type": "code",
   "execution_count": 11,
   "metadata": {},
   "outputs": [
    {
     "data": {
      "text/plain": [
       "0                                             [friend]\n",
       "1                                [miss, moon, trailer]\n",
       "2                                            [already]\n",
       "3    [omgaga, sooo, gunna, be, this, dentist, since...\n",
       "4                                       [think, cheat]\n",
       "Name: CleanTweet, dtype: object"
      ]
     },
     "execution_count": 11,
     "metadata": {},
     "output_type": "execute_result"
    }
   ],
   "source": [
    "# Apply lemmatization to tokenized data\n",
    "tokenizedData = tokenizedData.apply(lambda x: lemmatization(x))\n",
    "\n",
    "tokenizedData.head()"
   ]
  },
  {
   "cell_type": "code",
   "execution_count": 12,
   "metadata": {
    "scrolled": true
   },
   "outputs": [
    {
     "data": {
      "text/html": [
       "<div>\n",
       "<style scoped>\n",
       "    .dataframe tbody tr th:only-of-type {\n",
       "        vertical-align: middle;\n",
       "    }\n",
       "\n",
       "    .dataframe tbody tr th {\n",
       "        vertical-align: top;\n",
       "    }\n",
       "\n",
       "    .dataframe thead th {\n",
       "        text-align: right;\n",
       "    }\n",
       "</style>\n",
       "<table border=\"1\" class=\"dataframe\">\n",
       "  <thead>\n",
       "    <tr style=\"text-align: right;\">\n",
       "      <th></th>\n",
       "      <th>ItemID</th>\n",
       "      <th>Sentiment</th>\n",
       "      <th>Tweet</th>\n",
       "      <th>CleanTweet</th>\n",
       "    </tr>\n",
       "  </thead>\n",
       "  <tbody>\n",
       "    <tr>\n",
       "      <td>0</td>\n",
       "      <td>1</td>\n",
       "      <td>0</td>\n",
       "      <td>is so sad for my APL frie...</td>\n",
       "      <td>friend</td>\n",
       "    </tr>\n",
       "    <tr>\n",
       "      <td>1</td>\n",
       "      <td>2</td>\n",
       "      <td>0</td>\n",
       "      <td>I missed the New Moon trail...</td>\n",
       "      <td>miss moon trailer</td>\n",
       "    </tr>\n",
       "    <tr>\n",
       "      <td>2</td>\n",
       "      <td>3</td>\n",
       "      <td>1</td>\n",
       "      <td>omg its already 7:30 :O\\r</td>\n",
       "      <td>already</td>\n",
       "    </tr>\n",
       "    <tr>\n",
       "      <td>3</td>\n",
       "      <td>4</td>\n",
       "      <td>0</td>\n",
       "      <td>.. Omgaga. Im sooo  im gunna CRy. I'...</td>\n",
       "      <td>omgaga sooo gunna be this dentist since supose...</td>\n",
       "    </tr>\n",
       "    <tr>\n",
       "      <td>4</td>\n",
       "      <td>5</td>\n",
       "      <td>0</td>\n",
       "      <td>i think mi bf is cheating on me!!!   ...</td>\n",
       "      <td>think cheat</td>\n",
       "    </tr>\n",
       "  </tbody>\n",
       "</table>\n",
       "</div>"
      ],
      "text/plain": [
       "   ItemID  Sentiment                                              Tweet  \\\n",
       "0       1          0                       is so sad for my APL frie...   \n",
       "1       2          0                     I missed the New Moon trail...   \n",
       "2       3          1                          omg its already 7:30 :O\\r   \n",
       "3       4          0            .. Omgaga. Im sooo  im gunna CRy. I'...   \n",
       "4       5          0           i think mi bf is cheating on me!!!   ...   \n",
       "\n",
       "                                          CleanTweet  \n",
       "0                                             friend  \n",
       "1                                  miss moon trailer  \n",
       "2                                            already  \n",
       "3  omgaga sooo gunna be this dentist since supose...  \n",
       "4                                        think cheat  "
      ]
     },
     "execution_count": 12,
     "metadata": {},
     "output_type": "execute_result"
    }
   ],
   "source": [
    "# Stitch it all back together into a tweet\n",
    "for i in range(len(tokenizedData)):\n",
    "    tokenizedData[i] = ' '.join(tokenizedData[i])\n",
    "\n",
    "data['CleanTweet'] = tokenizedData\n",
    "\n",
    "# Replace all instances of \"quot\" and \"http\"\n",
    "data['CleanTweet'] = data['CleanTweet'].str.replace(\"quot\", \"\")\n",
    "data['CleanTweet'] = data['CleanTweet'].str.replace(\"http\", \"\")\n",
    "\n",
    "data.head()"
   ]
  },
  {
   "cell_type": "markdown",
   "metadata": {},
   "source": [
    "## Vectorize Data"
   ]
  },
  {
   "cell_type": "markdown",
   "metadata": {},
   "source": [
    "We use sci-kit learn's CountVectorizer in order to transform our data into a bag-of-words matrix that can then be fed into the logistic regression and subsequent models. The Tokenizer performs the same action for our keras neural network."
   ]
  },
  {
   "cell_type": "code",
   "execution_count": 13,
   "metadata": {
    "scrolled": true
   },
   "outputs": [
    {
     "name": "stdout",
     "output_type": "stream",
     "text": [
      "[4910, 466, 757]\n"
     ]
    }
   ],
   "source": [
    "# Vectorize the word counts for all of the tweets\n",
    "vectorizer = CountVectorizer(max_df=0.90, min_df=2, max_features=1000, stop_words='english')\n",
    "\n",
    "# Create tokinizer for the neural network\n",
    "tokenizer = Tokenizer(num_words=5000)\n",
    "tokenizer.fit_on_texts(data['CleanTweet'])\n",
    "# Fit and transform the tweet for the tokinizer\n",
    "tokenizedData = tokenizer.texts_to_sequences(data['CleanTweet'])\n",
    "#print an example for the tokinized data\n",
    "print(tokenizedData[150])\n",
    "\n",
    "\n",
    "# Bag-of-words feature matrix\n",
    "bow = vectorizer.fit_transform(data['CleanTweet'])\n",
    "# Transform into data frame\n",
    "df_bow = pd.DataFrame(bow.todense())\n",
    "# Standardize the data\n",
    "standardized_X = preprocessing.scale(df_bow)\n",
    "\n",
    "#set y to the labels column\n",
    "y = data['Sentiment']"
   ]
  },
  {
   "cell_type": "code",
   "execution_count": 12,
   "metadata": {},
   "outputs": [],
   "source": [
    "# Perform TFIDF vectorization on data\n",
    "tfidfconverter = TfidfVectorizer(max_features = 2000, min_df = 2, max_df = 0.9, stop_words = stopwords.words('english'))\n",
    "# Fit TF-IDF Vectorizer to dataset\n",
    "bow_tfidf = tfidfconverter.fit_transform(data['CleanTweet'])\n",
    "\n",
    "df_bow_tfidf = pd.DataFrame(bow_tfidf.todense())\n",
    "\n",
    "standardized_X_tfidf = preprocessing.scale(df_bow_tfidf)\n",
    "\n",
    "y = data['Sentiment']"
   ]
  },
  {
   "cell_type": "markdown",
   "metadata": {},
   "source": [
    "## Model Evaluation"
   ]
  },
  {
   "cell_type": "markdown",
   "metadata": {},
   "source": [
    "### Logistic Regression using TF-IDF Vectorization"
   ]
  },
  {
   "cell_type": "code",
   "execution_count": 31,
   "metadata": {},
   "outputs": [
    {
     "name": "stdout",
     "output_type": "stream",
     "text": [
      "Logistic Regression with TF-IDF instead of CountVectorizer\n",
      "              precision    recall  f1-score   support\n",
      "\n",
      "           0       0.70      0.63      0.66     27257\n",
      "           1       0.72      0.78      0.75     32743\n",
      "\n",
      "    accuracy                           0.71     60000\n",
      "   macro avg       0.71      0.70      0.71     60000\n",
      "weighted avg       0.71      0.71      0.71     60000\n",
      "\n",
      "[[17203 10054]\n",
      " [ 7306 25437]]\n",
      "Training time: 362.4056282043457s\n"
     ]
    }
   ],
   "source": [
    "start = time.time()\n",
    "# Train model using logistic regression and CV with 10 folds\n",
    "y_pred = cross_val_predict(LogisticRegression(), standardized_X_tfidf, y, cv = 10)\n",
    "stop = time.time()\n",
    "print(\"Logistic Regression with TF-IDF instead of CountVectorizer\")\n",
    "print(metrics.classification_report(y, y_pred))\n",
    "print(metrics.confusion_matrix(y, y_pred))\n",
    "\n",
    "print(f\"Training time: {stop - start}s\")"
   ]
  },
  {
   "cell_type": "markdown",
   "metadata": {},
   "source": [
    "### Logistic Regression and Decision Tree using CountVectorizer"
   ]
  },
  {
   "cell_type": "code",
   "execution_count": 506,
   "metadata": {},
   "outputs": [
    {
     "name": "stdout",
     "output_type": "stream",
     "text": [
      "Using Logistic Regression\n",
      "              precision    recall  f1-score   support\n",
      "\n",
      "           0       0.72      0.59      0.65     27257\n",
      "           1       0.70      0.81      0.75     32743\n",
      "\n",
      "    accuracy                           0.71     60000\n",
      "   macro avg       0.71      0.70      0.70     60000\n",
      "weighted avg       0.71      0.71      0.71     60000\n",
      "\n",
      "[[16194 11063]\n",
      " [ 6354 26389]]\n",
      "Training time: 15.473104000091553s\n",
      "Using Decision Trees\n",
      "              precision    recall  f1-score   support\n",
      "\n",
      "           0       0.62      0.61      0.62     27257\n",
      "           1       0.68      0.68      0.68     32743\n",
      "\n",
      "    accuracy                           0.65     60000\n",
      "   macro avg       0.65      0.65      0.65     60000\n",
      "weighted avg       0.65      0.65      0.65     60000\n",
      "\n",
      "[[16738 10519]\n",
      " [10432 22311]]\n",
      "Training time: 1314.553482055664s\n"
     ]
    }
   ],
   "source": [
    "start = time.time()\n",
    "# Train our model using cross validation with 10 folds, and logistic regression\n",
    "y_pred = cross_val_predict(LogisticRegression(),standardized_X, data['Sentiment'], cv=10)\n",
    "stop = time.time()\n",
    "print(\"Using Logistic Regression\")\n",
    "print(metrics.classification_report(y, y_pred))\n",
    "print(metrics.confusion_matrix(y, y_pred))\n",
    "print(f\"Training time: {stop - start}s\")\n",
    "\n",
    "start = time.time()\n",
    "# Train our model using cross validation with 10 folds, and decision trees\n",
    "tree = DecisionTreeClassifier(random_state=52)\n",
    "y_pred = cross_val_predict(tree,standardized_X, y, cv=10)\n",
    "stop = time.time()\n",
    "print(\"Using Decision Trees\")\n",
    "print(metrics.classification_report(y, y_pred))\n",
    "print(metrics.confusion_matrix(y, y_pred))\n",
    "print(f\"Training time: {stop - start}s\")"
   ]
  },
  {
   "cell_type": "markdown",
   "metadata": {},
   "source": [
    "### AdaBoost Classifier"
   ]
  },
  {
   "cell_type": "code",
   "execution_count": 508,
   "metadata": {},
   "outputs": [
    {
     "name": "stdout",
     "output_type": "stream",
     "text": [
      "Using AdaBoost\n",
      "              precision    recall  f1-score   support\n",
      "\n",
      "           0       0.74      0.48      0.58     27257\n",
      "           1       0.66      0.86      0.75     32743\n",
      "\n",
      "    accuracy                           0.69     60000\n",
      "   macro avg       0.70      0.67      0.66     60000\n",
      "weighted avg       0.70      0.69      0.67     60000\n",
      "\n",
      "[[12961 14296]\n",
      " [ 4555 28188]]\n",
      "Training time: 1371.8239090442657s\n"
     ]
    }
   ],
   "source": [
    "start = time.time()\n",
    "# Use Adaboost classifier\n",
    "adaBoost = AdaBoostClassifier(n_estimators = 100)\n",
    "\n",
    "# Evaluate model using 10 fold CV\n",
    "y_pred = cross_val_predict(adaBoost,standardized_X, y, cv=10)\n",
    "stop = time.time()\n",
    "print(\"Using AdaBoost\")\n",
    "print(metrics.classification_report(y, y_pred))\n",
    "print(metrics.confusion_matrix(y, y_pred))\n",
    "print(f\"Training time: {stop - start}s\")"
   ]
  },
  {
   "cell_type": "markdown",
   "metadata": {},
   "source": [
    "### Multi-layer Perceptron"
   ]
  },
  {
   "cell_type": "code",
   "execution_count": 14,
   "metadata": {},
   "outputs": [],
   "source": [
    "# Split the data first into train and test\n",
    "x_train, x_test, y_train, y_test = train_test_split(tokenizedData, y, test_size=0.3)"
   ]
  },
  {
   "cell_type": "code",
   "execution_count": 15,
   "metadata": {},
   "outputs": [],
   "source": [
    "vocab_size = len(tokenizer.word_index) + 1 #need these variables for the model\n",
    "embedding_dim = 50\n",
    "\n",
    "# Make sure all parts are inputted as arrays\n",
    "x_train = np.array(x_train)\n",
    "y_train = np.array(y_train)\n",
    "x_test = np.array(x_test)\n",
    "y_test = np.array(y_test)\n",
    "\n",
    "from keras.preprocessing.sequence import pad_sequences\n",
    "\n",
    "maxlen = 100\n",
    "# Introduce padding so that all of the arrays are the same length (will just put 0 in spots for where there's no words)\n",
    "x_train = pad_sequences(x_train, padding='post', maxlen=maxlen)\n",
    "x_test = pad_sequences(x_test, padding='post', maxlen=maxlen)"
   ]
  },
  {
   "cell_type": "code",
   "execution_count": 16,
   "metadata": {},
   "outputs": [],
   "source": [
    "from keras.regularizers import l2\n",
    "\n",
    "# Define and compile the model\n",
    "NNmodel = Sequential()\n",
    "\n",
    "NNmodel.add(layers.Embedding(input_dim=vocab_size, \n",
    "                           output_dim=embedding_dim, \n",
    "                           input_length=maxlen))\n",
    "NNmodel.add(layers.GlobalMaxPool1D())\n",
    "NNmodel.add(layers.Dense(10, activation='relu', kernel_regularizer=l2(0.05), bias_regularizer=l2(0.05)))\n",
    "NNmodel.add(Dropout(.5))           \n",
    "NNmodel.add(layers.Dense(1, activation='sigmoid'))\n",
    "NNmodel.compile(optimizer='adam',\n",
    "              loss='binary_crossentropy',\n",
    "              metrics=['accuracy'])\n"
   ]
  },
  {
   "cell_type": "code",
   "execution_count": 17,
   "metadata": {},
   "outputs": [
    {
     "name": "stdout",
     "output_type": "stream",
     "text": [
      "Train on 42000 samples, validate on 18000 samples\n",
      "Epoch 1/5\n",
      "42000/42000 [==============================] - 36s 864us/sample - loss: 0.7867 - accuracy: 0.6057 - val_loss: 0.6321 - val_accuracy: 0.6882\n",
      "Epoch 2/5\n",
      "42000/42000 [==============================] - 35s 842us/sample - loss: 0.6039 - accuracy: 0.7042 - val_loss: 0.5710 - val_accuracy: 0.7271\n",
      "Epoch 3/5\n",
      "42000/42000 [==============================] - 37s 884us/sample - loss: 0.5558 - accuracy: 0.7410 - val_loss: 0.5557 - val_accuracy: 0.7322\n",
      "Epoch 4/5\n",
      "42000/42000 [==============================] - 38s 912us/sample - loss: 0.5280 - accuracy: 0.7587 - val_loss: 0.5511 - val_accuracy: 0.7334\n",
      "Epoch 5/5\n",
      "42000/42000 [==============================] - 37s 881us/sample - loss: 0.5096 - accuracy: 0.7770 - val_loss: 0.5521 - val_accuracy: 0.7323\n",
      "Training time: 184.29200291633606s\n"
     ]
    }
   ],
   "source": [
    "start = time.time()\n",
    "#save the fit as 'history' for accessing the values later\n",
    "history = NNmodel.fit(x_train, y_train, epochs=5, batch_size =64, validation_data = (x_test, y_test))\n",
    "stop = time.time()\n",
    "print(f\"Training time: {stop - start}s\")"
   ]
  },
  {
   "cell_type": "markdown",
   "metadata": {},
   "source": [
    "### Visualization of the Data"
   ]
  },
  {
   "cell_type": "code",
   "execution_count": 18,
   "metadata": {},
   "outputs": [
    {
     "data": {
      "image/png": "[encoded data removed]",
      "text/plain": [
       "<Figure size 432x288 with 1 Axes>"
      ]
     },
     "metadata": {
      "needs_background": "light"
     },
     "output_type": "display_data"
    }
   ],
   "source": [
    "#plot the accuracy curve\n",
    "plt.plot(history.history['accuracy'])\n",
    "plt.plot(history.history['val_accuracy'])\n",
    "plt.title('NN Model Accuracy')\n",
    "plt.ylabel('Accuracy')\n",
    "plt.xlabel('Epoch')\n",
    "plt.legend(['Train', 'Test'], loc='upper left')\n",
    "plt.show()"
   ]
  },
  {
   "cell_type": "code",
   "execution_count": 19,
   "metadata": {},
   "outputs": [
    {
     "data": {
      "image/png": "[encoded data removed]",
      "text/plain": [
       "<Figure size 432x288 with 1 Axes>"
      ]
     },
     "metadata": {
      "needs_background": "light"
     },
     "output_type": "display_data"
    }
   ],
   "source": [
    "# Plot the loss curve\n",
    "plt.plot(history.history['loss'])\n",
    "plt.plot(history.history['val_loss'])\n",
    "plt.title('NN Model Loss')\n",
    "plt.ylabel('Loss')\n",
    "plt.xlabel('Epoch')\n",
    "plt.legend(['Train', 'Test'], loc='upper left')\n",
    "plt.show()"
   ]
  },
  {
   "cell_type": "code",
   "execution_count": 61,
   "metadata": {},
   "outputs": [],
   "source": [
    "# Pick out only the positive labeled tweets\n",
    "pos = (data['CleanTweet'][data['Sentiment'] == 1])\n",
    "# Split the words\n",
    "pos = pos.apply(lambda x: x.split())\n",
    "# Combine all like words\n",
    "pos = sum(pos, [])\n",
    "\n",
    "# Do the same for negative\n",
    "neg = (data['CleanTweet'][data['Sentiment'] == 0])\n",
    "neg = neg.apply(lambda x: x.split())\n",
    "neg = sum(neg, [])"
   ]
  },
  {
   "cell_type": "code",
   "execution_count": 66,
   "metadata": {},
   "outputs": [],
   "source": [
    "# Find the frequency counts of the positive key words\n",
    "posFrequency = nltk.FreqDist(pos)\n",
    "# Find the frequency counts of the negative key words\n",
    "negFrequency = nltk.FreqDist(neg)\n",
    "\n",
    "#turn the counts into seperate dataframes\n",
    "dfPos = pd.DataFrame({'Key Word':list(posFrequency.keys()), 'Count':list(posFrequency.values())})\n",
    "dfNeg = pd.DataFrame({'Key Word':list(negFrequency.keys()), 'Count':list(negFrequency.values())})\n"
   ]
  },
  {
   "cell_type": "code",
   "execution_count": 67,
   "metadata": {},
   "outputs": [
    {
     "name": "stdout",
     "output_type": "stream",
     "text": [
      "     Counts of the Top 15 Words Associated with Positive Tweets\n"
     ]
    },
    {
     "data": {
      "image/png": "[encoded data removed]",
      "text/plain": [
       "<Figure size 432x288 with 1 Axes>"
      ]
     },
     "metadata": {
      "needs_background": "light"
     },
     "output_type": "display_data"
    }
   ],
   "source": [
    "# Plot the data\n",
    "posPlot = dfPos.nlargest(15, columns = 'Count')\n",
    "print(\"     Counts of the Top 15 Words Associated with Positive Tweets\")\n",
    "sns.barplot(data=posPlot,y='Key Word',x='Count')\n",
    "sns.despine()"
   ]
  },
  {
   "cell_type": "code",
   "execution_count": 68,
   "metadata": {},
   "outputs": [
    {
     "name": "stdout",
     "output_type": "stream",
     "text": [
      "     Counts of the Top 15 Words Associated with Negative Tweets\n"
     ]
    },
    {
     "data": {
      "image/png": "[encoded data removed]",
      "text/plain": [
       "<Figure size 432x288 with 1 Axes>"
      ]
     },
     "metadata": {
      "needs_background": "light"
     },
     "output_type": "display_data"
    }
   ],
   "source": [
    "negPlot = dfNeg.nlargest(15, columns = 'Count')\n",
    "print(\"     Counts of the Top 15 Words Associated with Negative Tweets\")\n",
    "sns.barplot(data=negPlot,y='Key Word',x='Count')\n",
    "sns.despine()"
   ]
  },
  {
   "cell_type": "code",
   "execution_count": 19,
   "metadata": {},
   "outputs": [],
   "source": [
    "# twitter API setup\n",
    "import requests\n",
    "import tweepy\n",
    "import dataset\n",
    "from datafreeze import freeze\n",
    "\n",
    "# Initialize keys and tokens\n",
    "TWITTER_APP_KEY = '25cd5UcxhXgU0wNmwtebw93qV'\n",
    "TWITTER_APP_SECRET = 'F9e6DW9gDOC1NXqAGNez7lfFKNvd8EiiF90PHFUzSemmAke0fE'\n",
    "ACCESS_TOKEN = '1258414173823864835-bEZqrXBHXablc3OmUOL895ftQ4eUea'\n",
    "ACCESS_TOKEN_SECRET = 'SiBAA2YMOxNZOG38lHR4QBvzsVQQpOI0WWv43jWn8XbpP'\n",
    "\n",
    "TRACK_TERMS = [\"covid19\", \"coronavirus\", \"virus\", \"covid\"]\n",
    "CONNECTION_STRING = \"sqlite:///tweets.db\"\n",
    "CSV_NAME = \"tweets.csv\"\n",
    "TABLE_NAME = \"tweets\"\n",
    "\n",
    "tweets = []\n",
    "\n",
    "# Initialize authorization\n",
    "auth = tweepy.OAuthHandler(TWITTER_APP_KEY, TWITTER_APP_SECRET)\n",
    "auth.set_access_token(ACCESS_TOKEN, ACCESS_TOKEN_SECRET)\n",
    "\n",
    "api = tweepy.API(auth)\n",
    "\n",
    "# Redefine methods in streamlistener class\n",
    "class StreamListener(tweepy.StreamListener):\n",
    "    \n",
    "    # Override on_status method to simply print out the text of a tweet\n",
    "    def on_status(self, status):\n",
    "        print(status.text)\n",
    "        \n",
    "        # Get text of tweet\n",
    "        tweet = status.text\n",
    "\n",
    "        # Connect to sqlite db to store tweets\n",
    "        db = dataset.connect(CONNECTION_STRING)\n",
    "\n",
    "        table = db[TABLE_NAME]\n",
    "        table.insert(dict(\n",
    "            text = tweet))\n",
    "                \n",
    "    # Override on error to prevent to disconnect at a rate limit\n",
    "    def on_error(self, status_code):\n",
    "        if status_code == 420:\n",
    "            return False"
   ]
  },
  {
   "cell_type": "code",
   "execution_count": 23,
   "metadata": {},
   "outputs": [],
   "source": [
    "# Scraper functionality\n",
    "stream_listener = StreamListener()\n",
    "stream = tweepy.Stream(auth = api.auth, listener = stream_listener)\n",
    "stream.filter(track = TRACK_TERMS)\n",
    "\n",
    "# Ctrl-c to kill it"
   ]
  },
  {
   "cell_type": "code",
   "execution_count": 21,
   "metadata": {},
   "outputs": [],
   "source": [
    "# Transform database into a csv and export\n",
    "db = dataset.connect(\"sqlite:///tweets.db\")\n",
    "result = db[TABLE_NAME].all()\n",
    "\n",
    "# Store results in csv\n",
    "freeze(result, format='csv', filename=CSV_NAME)"
   ]
  },
  {
   "cell_type": "code",
   "execution_count": 3,
   "metadata": {},
   "outputs": [
    {
     "data": {
      "text/html": [
       "<div>\n",
       "<style scoped>\n",
       "    .dataframe tbody tr th:only-of-type {\n",
       "        vertical-align: middle;\n",
       "    }\n",
       "\n",
       "    .dataframe tbody tr th {\n",
       "        vertical-align: top;\n",
       "    }\n",
       "\n",
       "    .dataframe thead th {\n",
       "        text-align: right;\n",
       "    }\n",
       "</style>\n",
       "<table border=\"1\" class=\"dataframe\">\n",
       "  <thead>\n",
       "    <tr style=\"text-align: right;\">\n",
       "      <th></th>\n",
       "      <th>text</th>\n",
       "    </tr>\n",
       "  </thead>\n",
       "  <tbody>\n",
       "    <tr>\n",
       "      <td>0</td>\n",
       "      <td>Question: Do you think Trump has shed a single...</td>\n",
       "    </tr>\n",
       "    <tr>\n",
       "      <td>1</td>\n",
       "      <td>RT @libraryluna: Public libraries are perfect ...</td>\n",
       "    </tr>\n",
       "    <tr>\n",
       "      <td>2</td>\n",
       "      <td>RT @ubasociales: CONFERENCIA VIRTUAL DE GARCÍA...</td>\n",
       "    </tr>\n",
       "    <tr>\n",
       "      <td>3</td>\n",
       "      <td>@TODAYshow How dare you make me wear a device ...</td>\n",
       "    </tr>\n",
       "    <tr>\n",
       "      <td>4</td>\n",
       "      <td>RT @funder: Whatever you do don’t retweet this...</td>\n",
       "    </tr>\n",
       "    <tr>\n",
       "      <td>...</td>\n",
       "      <td>...</td>\n",
       "    </tr>\n",
       "    <tr>\n",
       "      <td>345</td>\n",
       "      <td>RT @mazeemkhan74: While more evidences emerge ...</td>\n",
       "    </tr>\n",
       "    <tr>\n",
       "      <td>346</td>\n",
       "      <td>RT @bajabiri: Friend of @Kiganyi_ Anataka acce...</td>\n",
       "    </tr>\n",
       "    <tr>\n",
       "      <td>347</td>\n",
       "      <td>RT @Gaby51904891: Han muerto 40000 españoles. ...</td>\n",
       "    </tr>\n",
       "    <tr>\n",
       "      <td>348</td>\n",
       "      <td>RT @MaricelaSerHdz: Mi reconocimiento a su gra...</td>\n",
       "    </tr>\n",
       "    <tr>\n",
       "      <td>349</td>\n",
       "      <td>RT @Yusnaby: Cola para comprar alimentos básic...</td>\n",
       "    </tr>\n",
       "  </tbody>\n",
       "</table>\n",
       "<p>350 rows × 1 columns</p>\n",
       "</div>"
      ],
      "text/plain": [
       "                                                  text\n",
       "0    Question: Do you think Trump has shed a single...\n",
       "1    RT @libraryluna: Public libraries are perfect ...\n",
       "2    RT @ubasociales: CONFERENCIA VIRTUAL DE GARCÍA...\n",
       "3    @TODAYshow How dare you make me wear a device ...\n",
       "4    RT @funder: Whatever you do don’t retweet this...\n",
       "..                                                 ...\n",
       "345  RT @mazeemkhan74: While more evidences emerge ...\n",
       "346  RT @bajabiri: Friend of @Kiganyi_ Anataka acce...\n",
       "347  RT @Gaby51904891: Han muerto 40000 españoles. ...\n",
       "348  RT @MaricelaSerHdz: Mi reconocimiento a su gra...\n",
       "349  RT @Yusnaby: Cola para comprar alimentos básic...\n",
       "\n",
       "[350 rows x 1 columns]"
      ]
     },
     "execution_count": 3,
     "metadata": {},
     "output_type": "execute_result"
    }
   ],
   "source": [
    "# Read in tweets csv\n",
    "api_data = pd.read_csv('tweets.csv', header = 0)\n",
    "\n",
    "# Delete id column\n",
    "del api_data['id']\n",
    "\n",
    "api_data"
   ]
  },
  {
   "cell_type": "code",
   "execution_count": 20,
   "metadata": {},
   "outputs": [
    {
     "name": "stdout",
     "output_type": "stream",
     "text": [
      "[1, 123, 101, 41, 21, 19, 12, 8, 124, 144, 78, 440, 8, 12, 427, 34]\n"
     ]
    }
   ],
   "source": [
    "# Create new tokenizer for the neural network\n",
    "tokenizer_api = Tokenizer(num_words=1000)\n",
    "tokenizer_api.fit_on_texts(api_data['text'])\n",
    "\n",
    "# Fit and transform the tweet for the tokinizer\n",
    "tokenizedDataApi = tokenizer_api.texts_to_sequences(api_data['text'])\n",
    "\n",
    "# Print an example for the tokinized data\n",
    "print(tokenizedDataApi[50])\n",
    "\n",
    "vocab_size = len(tokenizer_api.word_index) + 1 #need these variables for the model\n",
    "embedding_dim = 50\n",
    "\n",
    "# Make sure all parts are inputted as arrays\n",
    "tokenizedDataApi = np.array(tokenizedDataApi)\n",
    "\n",
    "from keras.preprocessing.sequence import pad_sequences\n",
    "\n",
    "maxlen = 100\n",
    "# Introduce padding so that all of the arrays are the same length (will just put 0 in spots for where there's no words)\n",
    "tokenizedDataApi = pad_sequences(tokenizedDataApi, padding='post', maxlen=maxlen)"
   ]
  },
  {
   "cell_type": "code",
   "execution_count": 22,
   "metadata": {},
   "outputs": [
    {
     "name": "stdout",
     "output_type": "stream",
     "text": [
      "' Question: Do you think Trump has shed a single tear for any of the victims of covid 19? '  \n",
      "Predicted Sentiment: 1\n",
      "' RT @libraryluna: Public libraries are perfect places for COVID-19 to spread, and states should back that up by encouraging alternative/no-c… '  \n",
      "Predicted Sentiment: 0\n",
      "' RT @ubasociales: CONFERENCIA VIRTUAL DE GARCÍA LINERA EN #FSOC #UBA\n",
      "\n",
      "Miles de personas siguieron en vivo la conferencia virtual del Profeso… '  \n",
      "Predicted Sentiment: 1\n",
      "' @TODAYshow How dare you make me wear a device to protect me and others from a deadly virus. Let me get my seat belt… https://t.co/vUDqVd3kYe '  \n",
      "Predicted Sentiment: 0\n",
      "' RT @funder: Whatever you do don’t retweet this video, it will make Trump furious. It shows every time Trump lied about and downplayed coron… '  \n",
      "Predicted Sentiment: 1\n",
      "' À cause du coronavirus, Takao Saito et le magazine Big Comic se sont mis d'accord afin d'assurer la sécurité sanita… https://t.co/reWDpJWeBG '  \n",
      "Predicted Sentiment: 1\n",
      "' RT @TheLastWord: Dr. Clifton Hastings, the chief of medical staff at the Northeast Georgia Medical Center in Gainesville, Georgia, says he… '  \n",
      "Predicted Sentiment: 0\n",
      "' RT @Corona_Bot__: CONFIRMED: Kenny tests positive for COVID-19 https://t.co/WjINuUWTPs '  \n",
      "Predicted Sentiment: 0\n",
      "' 70% of deaths in long-term care homes. “[Y]ou’d think any state response effort would not just include [them] — it… https://t.co/Trhw2uGqMT '  \n",
      "Predicted Sentiment: 0\n",
      "' RT @RealSaavedra: Population:\n",
      "\n",
      "Florida: 21,500,000\n",
      "New York: 19,500,000\n",
      "\n",
      "Coronavirus cases:\n",
      "\n",
      "FL: 38,828\n",
      "NY: 337,421\n",
      "\n",
      "Coronavirus deaths:\n",
      "\n",
      "F… '  \n",
      "Predicted Sentiment: 0\n"
     ]
    }
   ],
   "source": [
    "# Make predictions on the new dataset\n",
    "predictions = NNmodel.predict_classes(tokenizedDataApi)\n",
    "\n",
    "# Save predictions for each tweet in dataframe\n",
    "api_data['Predicted Sentiment'] = predictions\n",
    "\n",
    "# Show a few samples\n",
    "for i in range(10):\n",
    "    print(\"'\", api_data['text'][i],\"'\", \" \\nPredicted Sentiment:\", api_data['Predicted Sentiment'][i])"
   ]
  },
  {
   "cell_type": "code",
   "execution_count": null,
   "metadata": {},
   "outputs": [],
   "source": []
  }
 ],
 "metadata": {
  "kernelspec": {
   "display_name": "Python 3",
   "language": "python",
   "name": "python3"
  },
  "language_info": {
   "codemirror_mode": {
    "name": "ipython",
    "version": 3
   },
   "file_extension": ".py",
   "mimetype": "text/x-python",
   "name": "python",
   "nbconvert_exporter": "python",
   "pygments_lexer": "ipython3",
   "version": "3.7.4"
  }
 },
 "nbformat": 4,
 "nbformat_minor": 2
}
